{
 "cells": [
  {
   "cell_type": "code",
   "execution_count": 2,
   "metadata": {
    "id": "_pO-7fSEitz_"
   },
   "outputs": [],
   "source": [
    "import pandas as pd\n",
    "import numpy as np\n",
    "from sklearn.metrics import confusion_matrix\n",
    "from sklearn.tree import DecisionTreeClassifier\n",
    "from sklearn.metrics import accuracy_score\n",
    "from sklearn.metrics import classification_report\n",
    "from sklearn.ensemble import BaggingClassifier\n",
    "from sklearn.tree import DecisionTreeClassifier\n",
    "from sklearn.ensemble import AdaBoostClassifier"
   ]
  },
  {
   "cell_type": "code",
   "execution_count": 3,
   "metadata": {
    "colab": {
     "base_uri": "https://localhost:8080/"
    },
    "id": "_UwAe5pWrcsj",
    "outputId": "4e454c24-6b26-4e50-9c82-f8c2c91e2760"
   },
   "outputs": [
    {
     "name": "stdout",
     "output_type": "stream",
     "text": [
      "--2022-10-14 14:13:06--  https://archive.ics.uci.edu/ml/machine-learning-databases/00526/data.zip\n",
      "Resolving archive.ics.uci.edu (archive.ics.uci.edu)... 128.195.10.252\n",
      "Connecting to archive.ics.uci.edu (archive.ics.uci.edu)|128.195.10.252|:443... connected.\n",
      "HTTP request sent, awaiting response... 200 OK\n",
      "Length: 116104947 (111M) [application/x-httpd-php]\n",
      "Saving to: ‘data.zip.1’\n",
      "\n",
      "data.zip.1          100%[===================>] 110.73M  50.4MB/s    in 2.2s    \n",
      "\n",
      "2022-10-14 14:13:09 (50.4 MB/s) - ‘data.zip.1’ saved [116104947/116104947]\n",
      "\n",
      "Archive:  /content/data.zip\n",
      "replace BitcoinHeistData.csv? [y]es, [n]o, [A]ll, [N]one, [r]ename: Y\n",
      "  inflating: BitcoinHeistData.csv    \n"
     ]
    }
   ],
   "source": [
    "!wget  \"https://archive.ics.uci.edu/ml/machine-learning-databases/00526/data.zip\"\n",
    "!unzip \"/content/data.zip\" "
   ]
  },
  {
   "cell_type": "code",
   "execution_count": 4,
   "metadata": {
    "id": "fxj8QJpmlntO"
   },
   "outputs": [],
   "source": [
    "df=pd.read_csv(\"/content/BitcoinHeistData.csv\")"
   ]
  },
  {
   "cell_type": "code",
   "execution_count": 5,
   "metadata": {
    "colab": {
     "base_uri": "https://localhost:8080/"
    },
    "id": "3HEfiRi3kfif",
    "outputId": "6b769ed7-b4fe-4f89-8810-c1e9212aae39"
   },
   "outputs": [
    {
     "name": "stdout",
     "output_type": "stream",
     "text": [
      "                              address  year  day  length    weight  count  \\\n",
      "0   111K8kZAEnJg245r2cM6y9zgJGHZtJPy6  2017   11      18  0.008333      1   \n",
      "1  1123pJv8jzeFQaCV4w644pzQJzVWay2zcA  2016  132      44  0.000244      1   \n",
      "2  112536im7hy6wtKbpH1qYDWtTyMRAcA2p7  2016  246       0  1.000000      1   \n",
      "3  1126eDRw2wqSkWosjTCre8cjjQW8sSeWH7  2016  322      72  0.003906      1   \n",
      "4  1129TSjKtx65E35GiUo4AYVeyo48twbrGX  2016  238     144  0.072848    456   \n",
      "\n",
      "   looped  neighbors       income            label  \n",
      "0       0          2  100050000.0  princetonCerber  \n",
      "1       0          1  100000000.0   princetonLocky  \n",
      "2       0          2  200000000.0  princetonCerber  \n",
      "3       0          2   71200000.0  princetonCerber  \n",
      "4       0          1  200000000.0   princetonLocky  \n"
     ]
    }
   ],
   "source": [
    "print (df.head())"
   ]
  },
  {
   "cell_type": "code",
   "execution_count": 6,
   "metadata": {
    "colab": {
     "base_uri": "https://localhost:8080/"
    },
    "id": "ymRMiwI5k5bo",
    "outputId": "35d6df8a-90f7-44b7-d700-ba892dadd0f9"
   },
   "outputs": [
    {
     "data": {
      "text/plain": [
       "address      0\n",
       "year         0\n",
       "day          0\n",
       "length       0\n",
       "weight       0\n",
       "count        0\n",
       "looped       0\n",
       "neighbors    0\n",
       "income       0\n",
       "label        0\n",
       "dtype: int64"
      ]
     },
     "execution_count": 6,
     "metadata": {},
     "output_type": "execute_result"
    }
   ],
   "source": [
    "df.isnull().sum()"
   ]
  },
  {
   "cell_type": "code",
   "execution_count": 7,
   "metadata": {
    "id": "z-RCS4USl_1D"
   },
   "outputs": [],
   "source": [
    "temp_data = df['address']\n",
    "temp_label = df['label']"
   ]
  },
  {
   "cell_type": "code",
   "execution_count": 8,
   "metadata": {
    "id": "HdthClPJl3HP"
   },
   "outputs": [],
   "source": [
    "df = df.drop(['address','label'], axis=1)"
   ]
  },
  {
   "cell_type": "code",
   "execution_count": 9,
   "metadata": {
    "colab": {
     "base_uri": "https://localhost:8080/",
     "height": 204
    },
    "id": "3U02buWulgBs",
    "outputId": "de936f8b-14ca-4c4b-e236-77aabac77f6c"
   },
   "outputs": [
    {
     "data": {
      "text/html": [
       "\n",
       "  <div id=\"df-9ca58cca-ea6e-40dc-a35d-3078788e6976\">\n",
       "    <div class=\"colab-df-container\">\n",
       "      <div>\n",
       "<style scoped>\n",
       "    .dataframe tbody tr th:only-of-type {\n",
       "        vertical-align: middle;\n",
       "    }\n",
       "\n",
       "    .dataframe tbody tr th {\n",
       "        vertical-align: top;\n",
       "    }\n",
       "\n",
       "    .dataframe thead th {\n",
       "        text-align: right;\n",
       "    }\n",
       "</style>\n",
       "<table border=\"1\" class=\"dataframe\">\n",
       "  <thead>\n",
       "    <tr style=\"text-align: right;\">\n",
       "      <th></th>\n",
       "      <th>year</th>\n",
       "      <th>day</th>\n",
       "      <th>length</th>\n",
       "      <th>weight</th>\n",
       "      <th>count</th>\n",
       "      <th>looped</th>\n",
       "      <th>neighbors</th>\n",
       "      <th>income</th>\n",
       "    </tr>\n",
       "  </thead>\n",
       "  <tbody>\n",
       "    <tr>\n",
       "      <th>0</th>\n",
       "      <td>2017</td>\n",
       "      <td>11</td>\n",
       "      <td>18</td>\n",
       "      <td>0.008333</td>\n",
       "      <td>1</td>\n",
       "      <td>0</td>\n",
       "      <td>2</td>\n",
       "      <td>100050000.0</td>\n",
       "    </tr>\n",
       "    <tr>\n",
       "      <th>1</th>\n",
       "      <td>2016</td>\n",
       "      <td>132</td>\n",
       "      <td>44</td>\n",
       "      <td>0.000244</td>\n",
       "      <td>1</td>\n",
       "      <td>0</td>\n",
       "      <td>1</td>\n",
       "      <td>100000000.0</td>\n",
       "    </tr>\n",
       "    <tr>\n",
       "      <th>2</th>\n",
       "      <td>2016</td>\n",
       "      <td>246</td>\n",
       "      <td>0</td>\n",
       "      <td>1.000000</td>\n",
       "      <td>1</td>\n",
       "      <td>0</td>\n",
       "      <td>2</td>\n",
       "      <td>200000000.0</td>\n",
       "    </tr>\n",
       "    <tr>\n",
       "      <th>3</th>\n",
       "      <td>2016</td>\n",
       "      <td>322</td>\n",
       "      <td>72</td>\n",
       "      <td>0.003906</td>\n",
       "      <td>1</td>\n",
       "      <td>0</td>\n",
       "      <td>2</td>\n",
       "      <td>71200000.0</td>\n",
       "    </tr>\n",
       "    <tr>\n",
       "      <th>4</th>\n",
       "      <td>2016</td>\n",
       "      <td>238</td>\n",
       "      <td>144</td>\n",
       "      <td>0.072848</td>\n",
       "      <td>456</td>\n",
       "      <td>0</td>\n",
       "      <td>1</td>\n",
       "      <td>200000000.0</td>\n",
       "    </tr>\n",
       "  </tbody>\n",
       "</table>\n",
       "</div>\n",
       "      <button class=\"colab-df-convert\" onclick=\"convertToInteractive('df-9ca58cca-ea6e-40dc-a35d-3078788e6976')\"\n",
       "              title=\"Convert this dataframe to an interactive table.\"\n",
       "              style=\"display:none;\">\n",
       "        \n",
       "  <svg xmlns=\"http://www.w3.org/2000/svg\" height=\"24px\"viewBox=\"0 0 24 24\"\n",
       "       width=\"24px\">\n",
       "    <path d=\"M0 0h24v24H0V0z\" fill=\"none\"/>\n",
       "    <path d=\"M18.56 5.44l.94 2.06.94-2.06 2.06-.94-2.06-.94-.94-2.06-.94 2.06-2.06.94zm-11 1L8.5 8.5l.94-2.06 2.06-.94-2.06-.94L8.5 2.5l-.94 2.06-2.06.94zm10 10l.94 2.06.94-2.06 2.06-.94-2.06-.94-.94-2.06-.94 2.06-2.06.94z\"/><path d=\"M17.41 7.96l-1.37-1.37c-.4-.4-.92-.59-1.43-.59-.52 0-1.04.2-1.43.59L10.3 9.45l-7.72 7.72c-.78.78-.78 2.05 0 2.83L4 21.41c.39.39.9.59 1.41.59.51 0 1.02-.2 1.41-.59l7.78-7.78 2.81-2.81c.8-.78.8-2.07 0-2.86zM5.41 20L4 18.59l7.72-7.72 1.47 1.35L5.41 20z\"/>\n",
       "  </svg>\n",
       "      </button>\n",
       "      \n",
       "  <style>\n",
       "    .colab-df-container {\n",
       "      display:flex;\n",
       "      flex-wrap:wrap;\n",
       "      gap: 12px;\n",
       "    }\n",
       "\n",
       "    .colab-df-convert {\n",
       "      background-color: #E8F0FE;\n",
       "      border: none;\n",
       "      border-radius: 50%;\n",
       "      cursor: pointer;\n",
       "      display: none;\n",
       "      fill: #1967D2;\n",
       "      height: 32px;\n",
       "      padding: 0 0 0 0;\n",
       "      width: 32px;\n",
       "    }\n",
       "\n",
       "    .colab-df-convert:hover {\n",
       "      background-color: #E2EBFA;\n",
       "      box-shadow: 0px 1px 2px rgba(60, 64, 67, 0.3), 0px 1px 3px 1px rgba(60, 64, 67, 0.15);\n",
       "      fill: #174EA6;\n",
       "    }\n",
       "\n",
       "    [theme=dark] .colab-df-convert {\n",
       "      background-color: #3B4455;\n",
       "      fill: #D2E3FC;\n",
       "    }\n",
       "\n",
       "    [theme=dark] .colab-df-convert:hover {\n",
       "      background-color: #434B5C;\n",
       "      box-shadow: 0px 1px 3px 1px rgba(0, 0, 0, 0.15);\n",
       "      filter: drop-shadow(0px 1px 2px rgba(0, 0, 0, 0.3));\n",
       "      fill: #FFFFFF;\n",
       "    }\n",
       "  </style>\n",
       "\n",
       "      <script>\n",
       "        const buttonEl =\n",
       "          document.querySelector('#df-9ca58cca-ea6e-40dc-a35d-3078788e6976 button.colab-df-convert');\n",
       "        buttonEl.style.display =\n",
       "          google.colab.kernel.accessAllowed ? 'block' : 'none';\n",
       "\n",
       "        async function convertToInteractive(key) {\n",
       "          const element = document.querySelector('#df-9ca58cca-ea6e-40dc-a35d-3078788e6976');\n",
       "          const dataTable =\n",
       "            await google.colab.kernel.invokeFunction('convertToInteractive',\n",
       "                                                     [key], {});\n",
       "          if (!dataTable) return;\n",
       "\n",
       "          const docLinkHtml = 'Like what you see? Visit the ' +\n",
       "            '<a target=\"_blank\" href=https://colab.research.google.com/notebooks/data_table.ipynb>data table notebook</a>'\n",
       "            + ' to learn more about interactive tables.';\n",
       "          element.innerHTML = '';\n",
       "          dataTable['output_type'] = 'display_data';\n",
       "          await google.colab.output.renderOutput(dataTable, element);\n",
       "          const docLink = document.createElement('div');\n",
       "          docLink.innerHTML = docLinkHtml;\n",
       "          element.appendChild(docLink);\n",
       "        }\n",
       "      </script>\n",
       "    </div>\n",
       "  </div>\n",
       "  "
      ],
      "text/plain": [
       "   year  day  length    weight  count  looped  neighbors       income\n",
       "0  2017   11      18  0.008333      1       0          2  100050000.0\n",
       "1  2016  132      44  0.000244      1       0          1  100000000.0\n",
       "2  2016  246       0  1.000000      1       0          2  200000000.0\n",
       "3  2016  322      72  0.003906      1       0          2   71200000.0\n",
       "4  2016  238     144  0.072848    456       0          1  200000000.0"
      ]
     },
     "execution_count": 9,
     "metadata": {},
     "output_type": "execute_result"
    }
   ],
   "source": [
    "df.head()"
   ]
  },
  {
   "cell_type": "code",
   "execution_count": 10,
   "metadata": {
    "colab": {
     "base_uri": "https://localhost:8080/"
    },
    "id": "b48JdZxJk884",
    "outputId": "a870318f-bf6d-4e7f-b90a-bf8ad9dd62dc"
   },
   "outputs": [
    {
     "name": "stdout",
     "output_type": "stream",
     "text": [
      "2016\n",
      "78\n",
      "0\n",
      "1.0\n",
      "1\n",
      "0\n",
      "2\n",
      "100000000.0\n"
     ]
    }
   ],
   "source": [
    "for column in df.columns:\n",
    "    df[column].fillna(df[column].mode()[0], inplace=True)\n",
    "    print(df[column].mode()[0])"
   ]
  },
  {
   "cell_type": "code",
   "execution_count": 11,
   "metadata": {
    "colab": {
     "base_uri": "https://localhost:8080/"
    },
    "id": "9br397Mwmrq4",
    "outputId": "c45802e2-6ed1-4cba-b975-9e39656861c3"
   },
   "outputs": [
    {
     "name": "stdout",
     "output_type": "stream",
     "text": [
      "(2041687, 8)\n",
      "(2041687,)\n",
      "(437504, 8)\n",
      "(437504,)\n",
      "(437506, 8)\n",
      "(437506,)\n"
     ]
    },
    {
     "data": {
      "text/plain": [
       "(None, None)"
      ]
     },
     "execution_count": 11,
     "metadata": {},
     "output_type": "execute_result"
    }
   ],
   "source": [
    "tr_size = 0.70\n",
    "v_size=0.15\n",
    "t_size = 0.15\n",
    "df['label'] = temp_label\n",
    "tr_idx = int(len(temp_label)*tr_size)\n",
    "df_tr = df[0:tr_idx]\n",
    "v_idx = int(len(temp_label)*v_size)\n",
    "df_v = df[tr_idx:tr_idx+v_idx]\n",
    "df_t = df[tr_idx+v_idx:]\n",
    "t_idx = int(len(temp_label)*t_size)\n",
    "X_train, y_train = df_tr.drop(columns='label'), df_tr['label']\n",
    "X_valid, y_valid = df_v.drop(columns='label'), df_v['label']\n",
    "X_test, y_test = df_t.drop(columns='label'), df_t['label']   \n",
    "print(X_train.shape), print(y_train.shape)\n",
    "print(X_valid.shape), print(y_valid.shape)\n",
    "print(X_test.shape), print(y_test.shape)"
   ]
  },
  {
   "cell_type": "code",
   "execution_count": 12,
   "metadata": {
    "id": "dNYxWAR5txQ7"
   },
   "outputs": [],
   "source": [
    "df = df.drop(['label'],axis =1)"
   ]
  },
  {
   "cell_type": "code",
   "execution_count": 13,
   "metadata": {
    "id": "st5WiZr6ndbd"
   },
   "outputs": [],
   "source": [
    "def gini(X_train, X_test, y_train,i):\n",
    "  \n",
    "    clf_gini = DecisionTreeClassifier(criterion = \"gini\",\n",
    "            random_state = 123,max_depth=i, min_samples_leaf=5)\n",
    "    clf_gini.fit(X_train, y_train)\n",
    "    return clf_gini"
   ]
  },
  {
   "cell_type": "code",
   "execution_count": 14,
   "metadata": {
    "id": "qqJLYOGPrnPu"
   },
   "outputs": [],
   "source": [
    "def entropy(X_train, X_test, y_train,i):\n",
    "    clf_entropy = DecisionTreeClassifier(\n",
    "            criterion = \"entropy\", random_state = 123,\n",
    "            max_depth = i, min_samples_leaf = 5)\n",
    "    clf_entropy.fit(X_train, y_train)\n",
    "    return clf_entropy"
   ]
  },
  {
   "cell_type": "code",
   "execution_count": 18,
   "metadata": {
    "id": "bGl0ulvoNXtF"
   },
   "outputs": [],
   "source": [
    "train_x, valid_x, test_x = np.split(df.sample(frac=1), [int(.7*len(df)),int(.85*len(df))])\n",
    "train_y, valid_y, test_y = np.split(temp_label.sample(frac=1), [int(.7*len(temp_label)),int(.85*len(temp_label))])"
   ]
  },
  {
   "cell_type": "code",
   "execution_count": 19,
   "metadata": {
    "colab": {
     "base_uri": "https://localhost:8080/"
    },
    "id": "UoHNq2w4sJEE",
    "outputId": "95741246-6f7a-4c13-eca1-61789ed605ee"
   },
   "outputs": [
    {
     "name": "stdout",
     "output_type": "stream",
     "text": [
      "\n",
      "---------------MAX DEPTH = 4 ---------------\n",
      "------------ENTROPY-----------------\n",
      "\n",
      "ACCURACY SCORE: \n",
      "98.57167346658895\n",
      "-------------------------------------------------------------\n",
      "-----------GINI INDEX----------------\n",
      "ACCURACY SCORE: \n",
      "98.57167346658895\n",
      "\n",
      "---------------MAX DEPTH = 8 ---------------\n",
      "------------ENTROPY-----------------\n",
      "\n",
      "ACCURACY SCORE: \n",
      "98.57167346658895\n",
      "-------------------------------------------------------------\n",
      "-----------GINI INDEX----------------\n",
      "ACCURACY SCORE: \n",
      "98.57167346658895\n",
      "\n",
      "---------------MAX DEPTH = 10 ---------------\n",
      "------------ENTROPY-----------------\n",
      "\n",
      "ACCURACY SCORE: \n",
      "98.57121632895624\n",
      "-------------------------------------------------------------\n",
      "-----------GINI INDEX----------------\n",
      "ACCURACY SCORE: \n",
      "98.57167346658895\n",
      "\n",
      "---------------MAX DEPTH = 15 ---------------\n",
      "------------ENTROPY-----------------\n",
      "\n",
      "ACCURACY SCORE: \n",
      "98.55933075050571\n",
      "-------------------------------------------------------------\n",
      "-----------GINI INDEX----------------\n",
      "ACCURACY SCORE: \n",
      "98.5714448977726\n",
      "\n",
      "---------------MAX DEPTH = 20 ---------------\n",
      "------------ENTROPY-----------------\n",
      "\n",
      "ACCURACY SCORE: \n",
      "98.53327390544108\n",
      "-------------------------------------------------------------\n",
      "-----------GINI INDEX----------------\n",
      "ACCURACY SCORE: \n",
      "98.56961634724175\n"
     ]
    }
   ],
   "source": [
    "for i in {4,8,10,15,20}:\n",
    "  print(\"\")\n",
    "  print(\"---------------MAX DEPTH =\",i,\"---------------\")\n",
    "  clf_entropy = entropy(train_x, test_x, train_y,i)\n",
    "  print(\"------------ENTROPY-----------------\")\n",
    "  print(\"\")\n",
    "  yentropypred = clf_entropy.predict(test_x)\n",
    "  print(\"ACCURACY SCORE: \")\n",
    "  print(accuracy_score(test_y,yentropypred)*100)\n",
    "  clf_gini = gini(train_x, test_x, train_y,i)\n",
    "  print(\"-------------------------------------------------------------\")\n",
    "  print(\"-----------GINI INDEX----------------\")\n",
    "  yginipred = clf_gini.predict(test_x)\n",
    "  print(\"ACCURACY SCORE: \")\n",
    "  print(accuracy_score(test_y,yginipred)*100)"
   ]
  },
  {
   "cell_type": "code",
   "execution_count": 17,
   "metadata": {
    "colab": {
     "base_uri": "https://localhost:8080/"
    },
    "id": "0RH-r-XM0866",
    "outputId": "69052ebb-4499-4a17-df4c-bff6077977cf"
   },
   "outputs": [
    {
     "name": "stdout",
     "output_type": "stream",
     "text": [
      "^^^^^^^^^^^^^^^^^^RandomForest^^^^^^^^^^^^^^^^^\n",
      "ACCURACY 0.9858744471491755\n",
      "---------------------------------------------\n"
     ]
    }
   ],
   "source": [
    "#2 \n",
    "print(\"^^^^^^^^^^^^^^^^^^RandomForest^^^^^^^^^^^^^^^^^\")\n",
    "clf = BaggingClassifier(n_estimators=100, max_samples=0.5 ,random_state=123,base_estimator = DecisionTreeClassifier(criterion='gini',max_depth=3))\n",
    "clf.fit(train_x,train_y)\n",
    "print(\"ACCURACY\",clf.score(test_x,test_y))\n",
    "print(\"---------------------------------------------\")"
   ]
  },
  {
   "cell_type": "code",
   "execution_count": null,
   "metadata": {
    "colab": {
     "base_uri": "https://localhost:8080/"
    },
    "id": "Diu300gj9Cha",
    "outputId": "9ab5ba1e-497b-4a37-ffde-1df8d6cc4f98"
   },
   "outputs": [
    {
     "name": "stdout",
     "output_type": "stream",
     "text": [
      "^^^^^^^^^^^^^^^^^^AdaBoostClassifier^^^^^^^^^^^^^^^^^\n",
      "------------N-ESTIMATORS:  4 --------------\n",
      "97.6443697786311\n",
      "---------------------------------------------\n",
      "------------N-ESTIMATORS:  8 --------------\n",
      "95.36348156021074\n",
      "---------------------------------------------\n",
      "------------N-ESTIMATORS:  10 --------------\n",
      "95.02245688620702\n",
      "---------------------------------------------\n",
      "------------N-ESTIMATORS:  15 --------------\n",
      "95.71730608793042\n",
      "---------------------------------------------\n",
      "------------N-ESTIMATORS:  20 --------------\n",
      "97.69648346876035\n",
      "---------------------------------------------\n"
     ]
    }
   ],
   "source": [
    "#3\n",
    "print(\"^^^^^^^^^^^^^^^^^^AdaBoostClassifier^^^^^^^^^^^^^^^^^\")\n",
    "for i in {4,8,10,15,20}:\n",
    "  clf = AdaBoostClassifier(n_estimators=i,base_estimator = DecisionTreeClassifier(criterion='gini',max_depth=15))\n",
    "\n",
    "\n",
    "  model = clf.fit(train_x, train_y)\n",
    "  print(\"------------N-ESTIMATORS: \",i,\"--------------\")\n",
    "  print(clf.score(test_x,test_y)*100)\n",
    "  print(\"---------------------------------------------\")"
   ]
  }
 ],
 "metadata": {
  "colab": {
   "collapsed_sections": [],
   "provenance": []
  },
  "kernelspec": {
   "display_name": "Python 3 (ipykernel)",
   "language": "python",
   "name": "python3"
  },
  "language_info": {
   "codemirror_mode": {
    "name": "ipython",
    "version": 3
   },
   "file_extension": ".py",
   "mimetype": "text/x-python",
   "name": "python",
   "nbconvert_exporter": "python",
   "pygments_lexer": "ipython3",
   "version": "3.9.12"
  }
 },
 "nbformat": 4,
 "nbformat_minor": 1
}
